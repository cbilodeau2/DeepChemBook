{
 "cells": [
  {
   "cell_type": "code",
   "execution_count": 1,
   "metadata": {},
   "outputs": [
    {
     "name": "stderr",
     "output_type": "stream",
     "text": [
      "/home/cbilodeau/anaconda2/envs/deepchem2/lib/python3.6/site-packages/sklearn/ensemble/weight_boosting.py:29: DeprecationWarning: numpy.core.umath_tests is an internal NumPy module and should not be imported. It will be removed in a future NumPy release.\n",
      "  from numpy.core.umath_tests import inner1d\n"
     ]
    }
   ],
   "source": [
    "import deepchem as dc\n",
    "import tensorflow as tf\n",
    "import numpy as np\n",
    "import rdkit\n",
    "from rdkit import *"
   ]
  },
  {
   "cell_type": "markdown",
   "metadata": {},
   "source": [
    "## Chapter 9"
   ]
  },
  {
   "cell_type": "code",
   "execution_count": 8,
   "metadata": {},
   "outputs": [
    {
     "name": "stdout",
     "output_type": "stream",
     "text": [
      "Loading dataset from disk.\n",
      "Loading dataset from disk.\n",
      "Loading dataset from disk.\n"
     ]
    }
   ],
   "source": [
    "tasks,datasets,transformers = dc.molnet.load_muv()\n",
    "train_dataset,valid_dataset,test_dataset = datasets\n",
    "train_smiles = train_dataset.ids"
   ]
  },
  {
   "cell_type": "code",
   "execution_count": 9,
   "metadata": {},
   "outputs": [],
   "source": [
    "tokens = set()\n",
    "for s in train_smiles: \n",
    "    tokens = tokens.union(set(s))\n",
    "tokens = sorted(list(tokens))\n",
    "max_length = max(len(s) for s in train_smiles)"
   ]
  },
  {
   "cell_type": "code",
   "execution_count": 15,
   "metadata": {},
   "outputs": [],
   "source": [
    "from deepchem.models.tensorgraph.optimizers import Adam, ExponentialDecay\n",
    "from deepchem.models.tensorgraph.models.seqtoseq import AspuruGuzikAutoEncoder\n",
    "model = AspuruGuzikAutoEncoder(tokens,max_length,model_dir = 'vae')\n",
    "batches_per_epoch = len(train_smiles)/model.batch_size\n",
    "learning_rate = ExponentialDecay(0.001,0.95,batches_per_epoch)\n",
    "model.set_optimizer(Adam(learning_rate=learning_rate))"
   ]
  },
  {
   "cell_type": "code",
   "execution_count": null,
   "metadata": {},
   "outputs": [
    {
     "name": "stdout",
     "output_type": "stream",
     "text": [
      "WARNING:tensorflow:From /home/cbilodeau/anaconda2/envs/deepchem2/lib/python3.6/site-packages/tensorflow/python/util/deprecation.py:497: calling conv1d (from tensorflow.python.ops.nn_ops) with data_format=NHWC is deprecated and will be removed in a future version.\n",
      "Instructions for updating:\n",
      "`NHWC` for data_format is deprecated, use `NWC` instead\n"
     ]
    }
   ],
   "source": [
    "def generate_sequences(epochs):\n",
    "    for i in range(epochs):\n",
    "        for s in train_smiles:\n",
    "            yield (s,s)\n",
    "            \n",
    "model.fit_sequences(generate_sequences(50))"
   ]
  },
  {
   "cell_type": "code",
   "execution_count": null,
   "metadata": {},
   "outputs": [],
   "source": [
    "#Generate list of molecules that follows SMILES string rules:\n",
    "import numpy as np\n",
    "from rdkit import Chem\n",
    "predictions = model.predict_from_embeddings(np.random.normal(size=(100,196)))\n",
    "molecules = []\n",
    "for p in predictions:\n",
    "    smiles = ''.join(p)\n",
    "    if Chem.MolFromSmiles(smiles) is not None:\n",
    "        molecules.append(smiles)\n",
    "    for m in molecules:\n",
    "        print(m)"
   ]
  },
  {
   "cell_type": "code",
   "execution_count": null,
   "metadata": {},
   "outputs": [],
   "source": []
  }
 ],
 "metadata": {
  "kernelspec": {
   "display_name": "Python 3",
   "language": "python",
   "name": "python3"
  },
  "language_info": {
   "codemirror_mode": {
    "name": "ipython",
    "version": 3
   },
   "file_extension": ".py",
   "mimetype": "text/x-python",
   "name": "python",
   "nbconvert_exporter": "python",
   "pygments_lexer": "ipython3",
   "version": "3.6.6"
  }
 },
 "nbformat": 4,
 "nbformat_minor": 2
}
