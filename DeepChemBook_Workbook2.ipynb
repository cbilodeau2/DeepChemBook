{
 "cells": [
  {
   "cell_type": "code",
   "execution_count": 16,
   "metadata": {},
   "outputs": [],
   "source": [
    "import deepchem as dc\n",
    "import tensorflow as tf\n",
    "import numpy as np\n",
    "import rdkit\n",
    "from rdkit import *"
   ]
  },
  {
   "cell_type": "markdown",
   "metadata": {},
   "source": [
    "## Chapter 4"
   ]
  },
  {
   "cell_type": "code",
   "execution_count": 17,
   "metadata": {},
   "outputs": [
    {
     "data": {
      "text/plain": [
       "(2, 1024)"
      ]
     },
     "execution_count": 17,
     "metadata": {},
     "output_type": "execute_result"
    }
   ],
   "source": [
    "# Ways to represent small molecules\n",
    "\n",
    "smiles = ['C1CCCC1', 'O1CCOCC1']\n",
    "mols = [rdkit.Chem.MolFromSmiles(smile) for smile in smiles]\n",
    "\n",
    "# ECFP4 fingerprints:\n",
    "feat = dc.feat.CircularFingerprint(size=1024)\n",
    "arr = feat.featurize(mols)\n",
    "np.shape(arr)"
   ]
  },
  {
   "cell_type": "code",
   "execution_count": 18,
   "metadata": {},
   "outputs": [
    {
     "data": {
      "text/plain": [
       "(2, 111)"
      ]
     },
     "execution_count": 18,
     "metadata": {},
     "output_type": "execute_result"
    }
   ],
   "source": [
    "# Molecular Descriptors (like QSAR):\n",
    "feat = dc.feat.RDKitDescriptors()\n",
    "arr = feat.featurize(mols)\n",
    "np.shape(arr)"
   ]
  },
  {
   "cell_type": "code",
   "execution_count": 19,
   "metadata": {},
   "outputs": [
    {
     "name": "stdout",
     "output_type": "stream",
     "text": [
      "Loading dataset from disk.\n",
      "Loading dataset from disk.\n",
      "Loading dataset from disk.\n"
     ]
    }
   ],
   "source": [
    "# Also graph convolutional networks:\n",
    "tasks, datasets, transformers = dc.molnet.load_delaney(featurizer='GraphConv')\n",
    "train_dataset, valid_dataset, test_dataset = datasets"
   ]
  },
  {
   "cell_type": "code",
   "execution_count": 20,
   "metadata": {},
   "outputs": [
    {
     "name": "stderr",
     "output_type": "stream",
     "text": [
      "/home/cbilodeau/anaconda2/envs/deepchem2/lib/python3.6/site-packages/tensorflow/python/ops/gradients_impl.py:98: UserWarning: Converting sparse IndexedSlices to a dense Tensor of unknown shape. This may consume a large amount of memory.\n",
      "  \"Converting sparse IndexedSlices to a dense Tensor of unknown shape. \"\n"
     ]
    },
    {
     "data": {
      "text/plain": [
       "0.009898860938847065"
      ]
     },
     "execution_count": 20,
     "metadata": {},
     "output_type": "execute_result"
    }
   ],
   "source": [
    "model = dc.models.GraphConvModel(n_tasks=1, mode='regression',dropout=0.2)\n",
    "model.fit(train_dataset, nb_epoch=100)"
   ]
  },
  {
   "cell_type": "code",
   "execution_count": 21,
   "metadata": {},
   "outputs": [
    {
     "name": "stdout",
     "output_type": "stream",
     "text": [
      "computed_metrics: [0.9174988354079998]\n",
      "{'pearson_r2_score': 0.9174988354079998}\n",
      "computed_metrics: [0.7702977479173475]\n",
      "{'pearson_r2_score': 0.7702977479173475}\n"
     ]
    }
   ],
   "source": [
    "metric = dc.metrics.Metric(dc.metrics.pearson_r2_score)\n",
    "print(model.evaluate(train_dataset,[metric],transformers))\n",
    "print(model.evaluate(test_dataset,[metric],transformers))"
   ]
  },
  {
   "cell_type": "code",
   "execution_count": 22,
   "metadata": {},
   "outputs": [],
   "source": [
    "# We can now use this model to predict the solubilities of new molecules:\n",
    "smiles = ['COC(C)(C)CCCC(C)CC=CC(C)=CC(=O)OC(C)C',\n",
    "         'CCOC(=O)CC', 'CSc1nc(NC(C)C)nc(NC(C)C)n1', 'CC(C#C)N(C)C(=O)Nc1ccc(Cl)cc1',\n",
    "         'Cc1cc2ccccc2cc1C']"
   ]
  },
  {
   "cell_type": "code",
   "execution_count": 23,
   "metadata": {},
   "outputs": [],
   "source": [
    "mols = [Chem.MolFromSmiles(s) for s in smiles]\n",
    "featurizer = dc.feat.ConvMolFeaturizer()\n",
    "x = featurizer.featurize(mols)"
   ]
  },
  {
   "cell_type": "code",
   "execution_count": 24,
   "metadata": {},
   "outputs": [],
   "source": [
    "predicted_solubility = model.predict_on_batch(x)"
   ]
  },
  {
   "cell_type": "code",
   "execution_count": 25,
   "metadata": {},
   "outputs": [
    {
     "name": "stdout",
     "output_type": "stream",
     "text": [
      "[[0.3434617 ]\n",
      " [1.5717566 ]\n",
      " [0.5191531 ]\n",
      " [0.63904214]\n",
      " [0.1227548 ]]\n"
     ]
    }
   ],
   "source": [
    "print(predicted_solubility)"
   ]
  },
  {
   "cell_type": "markdown",
   "metadata": {},
   "source": [
    "### SMARTS Strings"
   ]
  },
  {
   "cell_type": "code",
   "execution_count": 26,
   "metadata": {},
   "outputs": [],
   "source": [
    "smiles_list = ['CCCCC','CCOCC','CCNCC','CCSCC']\n",
    "mol_list = [Chem.MolFromSmiles(x) for x in smiles_list]"
   ]
  },
  {
   "cell_type": "code",
   "execution_count": 27,
   "metadata": {},
   "outputs": [],
   "source": [
    "# Query smiles string matching smarts pattern 'CCC':\n",
    "query = Chem.MolFromSmarts('C[S,O]C')\n",
    "match_list = [mol.GetSubstructMatch(query) for mol in mol_list]"
   ]
  },
  {
   "cell_type": "code",
   "execution_count": 28,
   "metadata": {},
   "outputs": [
    {
     "data": {
      "image/png": "[encoded data removed]",
      "text/plain": [
       "<PIL.PngImagePlugin.PngImageFile image mode=RGB size=800x200 at 0x7FB2980FD470>"
      ]
     },
     "execution_count": 28,
     "metadata": {},
     "output_type": "execute_result"
    }
   ],
   "source": [
    "from rdkit.Chem.Draw import MolsToGridImage\n",
    "\n",
    "MolsToGridImage(mols=mol_list,molsPerRow=4,highlightAtomLists=match_list)"
   ]
  },
  {
   "cell_type": "markdown",
   "metadata": {},
   "source": [
    "## Chapter 5"
   ]
  },
  {
   "cell_type": "code",
   "execution_count": 37,
   "metadata": {},
   "outputs": [],
   "source": [
    "grid_featurizer = dc.feat.RdkitGridFeaturizer(voxel_width=2.0,\n",
    "                                             feature_types=['hbond','salt_bridge','pi_stack','cation_pi','ecfp','splif'],\n",
    "                                             sanitize=True, flatten=True)\n",
    "\n",
    "# This featurizer goes to each spatial voxel and counts biophysical fatures and computes a local fingerprint vector."
   ]
  },
  {
   "cell_type": "markdown",
   "metadata": {},
   "source": [
    "## Aside: Directions to deal with load_pdbbind_grid bug\n",
    "The method load_pdbbind doesn't appear in deepchem version 2.1.1, so you can use load_pdbbind_grid. Ther is a bug, however that I observed. To fix this, I obtained the newest version of pdbbind_datasets.py at deepchem/molnet/load_function/pdbbind_datasets.py. The version being called by my version of deepchem is located on my computer at deepchem/molnet/load_function/pdbbind_datasets.py. I replaced the function \"load_pdbbind_grid\" in my copy (lines 48-127) with the function from the github page (lines 54-138). This got rid of my error.\n",
    "\n",
    "Note: You will need to restart your kernel and reload deepchem for any changes to take effect."
   ]
  },
  {
   "cell_type": "code",
   "execution_count": 38,
   "metadata": {},
   "outputs": [
    {
     "name": "stdout",
     "output_type": "stream",
     "text": [
      "Loading dataset from disk.\n",
      "TIMING: dataset construction took 0.012 s\n",
      "Loading dataset from disk.\n",
      "TIMING: dataset construction took 0.006 s\n",
      "Loading dataset from disk.\n",
      "TIMING: dataset construction took 0.006 s\n",
      "Loading dataset from disk.\n"
     ]
    }
   ],
   "source": [
    "# Load PDBBind dataset:\n",
    "tasks, datasets, transformers = dc.molnet.load_pdbbind_grid(split='random',featurizer='grid',subset='core')\n",
    "train_dataset, valid_dataset, test_dataset = datasets"
   ]
  },
  {
   "cell_type": "code",
   "execution_count": 54,
   "metadata": {},
   "outputs": [],
   "source": [
    "# Random Forest Model:\n",
    "from sklearn.ensemble import RandomForestRegressor\n",
    "sklearn_model = RandomForestRegressor(n_estimators=100)\n",
    "model = dc.models.SklearnModel(sklearn_model)\n",
    "model.fit(train_dataset)"
   ]
  },
  {
   "cell_type": "code",
   "execution_count": 56,
   "metadata": {},
   "outputs": [
    {
     "data": {
      "text/plain": [
       "107.07924664306641"
      ]
     },
     "execution_count": 56,
     "metadata": {},
     "output_type": "execute_result"
    }
   ],
   "source": [
    "# MultiLayer Perceptron:\n",
    "n_features = train_dataset.X.shape[1]\n",
    "model = dc.models.MultitaskRegressor(\n",
    "    n_tasks=len(tasks),\n",
    "    n_features=n_features,\n",
    "    layer_sizes= [2000,1000],\n",
    "    dropouts=0.5,\n",
    "    learning_rate=0.0003)\n",
    "model.fit(train_dataset,nb_epoch=250)"
   ]
  },
  {
   "cell_type": "code",
   "execution_count": 57,
   "metadata": {},
   "outputs": [
    {
     "name": "stdout",
     "output_type": "stream",
     "text": [
      "Evaluating Model\n",
      "computed_metrics: [0.986143342076055]\n",
      "computed_metrics: [0.015461017703871843]\n",
      "Train_scores\n",
      "{'pearson_r2_score': 0.986143342076055}\n",
      "Test scores\n",
      "{'pearson_r2_score': 0.015461017703871843}\n"
     ]
    }
   ],
   "source": [
    "metric = dc.metrics.Metric(dc.metrics.pearson_r2_score)\n",
    "print(\"Evaluating Model\")\n",
    "train_scores = model.evaluate(train_dataset,[metric],transformers)\n",
    "test_scores = model.evaluate(test_dataset,[metric],transformers)\n",
    "print('Train_scores')\n",
    "print(train_scores)\n",
    "print('Test scores')\n",
    "print(test_scores)"
   ]
  },
  {
   "cell_type": "code",
   "execution_count": null,
   "metadata": {},
   "outputs": [],
   "source": []
  },
  {
   "cell_type": "code",
   "execution_count": null,
   "metadata": {},
   "outputs": [],
   "source": []
  }
 ],
 "metadata": {
  "kernelspec": {
   "display_name": "Python 3",
   "language": "python",
   "name": "python3"
  },
  "language_info": {
   "codemirror_mode": {
    "name": "ipython",
    "version": 3
   },
   "file_extension": ".py",
   "mimetype": "text/x-python",
   "name": "python",
   "nbconvert_exporter": "python",
   "pygments_lexer": "ipython3",
   "version": "3.6.6"
  }
 },
 "nbformat": 4,
 "nbformat_minor": 2
}
